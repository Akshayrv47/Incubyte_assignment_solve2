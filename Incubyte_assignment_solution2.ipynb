{
 "cells": [
  {
   "cell_type": "code",
   "execution_count": 1,
   "id": "f33a1d8f",
   "metadata": {},
   "outputs": [],
   "source": [
    "# required Libries\n",
    "import mysql.connector\n",
    "import pandas as pd"
   ]
  },
  {
   "cell_type": "code",
   "execution_count": 2,
   "id": "84911f3f",
   "metadata": {},
   "outputs": [],
   "source": [
    "#Database Connectivity\n",
    "database = mysql.connector.connect(host=\"localhost\",user=\"root\",passwd= \"Root@123\",database=\"my_hospital\")\n",
    "cursor = database.cursor()"
   ]
  },
  {
   "cell_type": "code",
   "execution_count": 3,
   "id": "879b2857",
   "metadata": {},
   "outputs": [],
   "source": [
    "cust_data= pd.read_sql('SELECT * FROM customer', con=database).to_csv('F:/C-DAC/incubyte_assign/customer_data.csv')"
   ]
  },
  {
   "cell_type": "code",
   "execution_count": 4,
   "id": "90758e71",
   "metadata": {},
   "outputs": [],
   "source": [
    "from pyspark.sql import SparkSession\n",
    "from pyspark.sql.functions import col"
   ]
  },
  {
   "cell_type": "code",
   "execution_count": 5,
   "id": "6d9c2d3a",
   "metadata": {},
   "outputs": [],
   "source": [
    "#create spark for data processing\n",
    "my_spark=SparkSession.builder.appName(\"Hospital\").getOrCreate()"
   ]
  },
  {
   "cell_type": "code",
   "execution_count": 6,
   "id": "1ea6ea19",
   "metadata": {},
   "outputs": [],
   "source": [
    "#create_dataframe using spark\n",
    "cust_df=my_spark.read.csv(\n",
    "    path=\"F:/C-DAC/incubyte_assign/customer_data.csv\",\n",
    "    sep=\",\",\n",
    "    header=True,   \n",
    "    inferSchema=True,\n",
    ")"
   ]
  },
  {
   "cell_type": "code",
   "execution_count": 7,
   "id": "7be87d66",
   "metadata": {},
   "outputs": [
    {
     "name": "stdout",
     "output_type": "stream",
     "text": [
      "+---+-----------+-------------+----------+-------------------+--------------+--------+-----+-------+----------+---------+\n",
      "|_c0|Customer_Id|Customer_Name| Open_date|Last_Consulted_Date|Vaccination_Id| Dr_Name|State|Country|       DOB|Is_Active|\n",
      "+---+-----------+-------------+----------+-------------------+--------------+--------+-----+-------+----------+---------+\n",
      "|  0|          7|        Perry|2021-09-05|         2022-09-04|           MVD|    John|  VIC|     AU|1990-11-12|        A|\n",
      "|  1|         77|       Maxwel|2021-09-05|         2022-09-04|           MVD|    John|  VIC|     AU|1990-01-26|        A|\n",
      "|  2|        123|       Akshay|2021-10-02|         2022-10-01|           COV|  Sharma|   MH|    IND|1994-07-04|        A|\n",
      "|  3|        124|          Jay|2021-08-11|         2022-08-10|           COV|  Sharma|   MH|    IND|1990-04-05|        A|\n",
      "|  4|        125|        Aliya|2021-08-12|         2022-08-11|           COV|  Sharma|   MH|    IND|1990-09-12|        A|\n",
      "|  5|        126|         Alex|2021-09-24|         2022-09-23|           MVD|    Paul|   SA|    USA|1990-06-15|        A|\n",
      "|  6|        127|       Mathew|2021-09-26|         2022-09-25|           MVD|   Jacob|  BOS|    NYC|1990-07-05|        A|\n",
      "|  7|        256|        Pooja|2021-10-11|         2022-10-10|           CSD|Kulkarni|   MH|    IND|1991-02-27|        A|\n",
      "|  8|        257|      Shubham|2021-10-11|         2022-10-10|           CSD|Kulkarni|   MH|    IND|1991-10-15|        A|\n",
      "|  9|        543|        Rakhi|2021-10-14|         2022-10-13|           CSD|   Joshi|   MH|    IND|1990-12-14|        A|\n",
      "| 10|        567|         John|2021-10-27|         2022-10-26|           MVD|   Jacob|  BOS|    NYC|1990-10-05|        A|\n",
      "| 11|        777|       Rutuja|2021-09-27|         2022-09-26|           COV|  Mishra|   UP|    IND|1990-05-05|        A|\n",
      "| 12|        779|        Finch|2021-09-05|         2022-09-04|           MVD|    John|  VIC|     AU|1988-03-27|        A|\n",
      "| 13|        877|        Kedar|2021-09-27|         2022-09-26|           COV|  Mishra|   UP|    IND|1990-11-06|        A|\n",
      "| 14|        881|         Bond|2021-10-26|         2022-10-25|           CSD|    Paul|   SA|    USA|1990-11-28|        A|\n",
      "| 15|        883|         Tity|2021-10-26|         2022-10-25|           CSD|    Paul|   SA|    USA|1991-02-11|        A|\n",
      "| 16|        955|       Rajesh|2021-09-05|         2022-09-04|           MVD|    John|  VIC|     AU|1991-10-16|        A|\n",
      "| 17|       2345|       Rajesh|2021-08-05|         2022-08-04|           MVD|    John|  VIC|     AU|1990-12-14|        A|\n",
      "| 18|       2517|          Roy|2021-08-09|         2022-08-08|           COV|   Jason|   LA|    ENG|1991-10-15|        A|\n",
      "| 19|       2518|          Joe|2021-08-09|         2022-08-08|           COV|   Jason|   LA|    ENG|1991-07-10|        A|\n",
      "+---+-----------+-------------+----------+-------------------+--------------+--------+-----+-------+----------+---------+\n",
      "only showing top 20 rows\n",
      "\n"
     ]
    }
   ],
   "source": [
    "cust_df.show()"
   ]
  },
  {
   "cell_type": "code",
   "execution_count": 8,
   "id": "4a6617f0",
   "metadata": {},
   "outputs": [],
   "source": [
    "#Country wise data sort\n",
    "ind_cust_df=cust_df.filter(col(\"Country\").like(\"IND\"))"
   ]
  },
  {
   "cell_type": "code",
   "execution_count": 9,
   "id": "d38bee1f",
   "metadata": {},
   "outputs": [],
   "source": [
    "ind_cust_df.toPandas().to_csv('F:/C-DAC/incubyte_assign/india_data.csv')"
   ]
  },
  {
   "cell_type": "code",
   "execution_count": 10,
   "id": "ce4dff9c",
   "metadata": {},
   "outputs": [],
   "source": [
    "aus_cust_df=cust_df.filter(col(\"Country\").like(\"AU\"))"
   ]
  },
  {
   "cell_type": "code",
   "execution_count": 11,
   "id": "dd9b56f2",
   "metadata": {},
   "outputs": [],
   "source": [
    "aus_cust_df.toPandas().to_csv('F:/C-DAC/incubyte_assign/aus_data.csv')"
   ]
  },
  {
   "cell_type": "code",
   "execution_count": 12,
   "id": "476f4612",
   "metadata": {},
   "outputs": [],
   "source": [
    "eng_cust_df=cust_df.filter(col(\"Country\").like(\"ENG\"))"
   ]
  },
  {
   "cell_type": "code",
   "execution_count": 13,
   "id": "360e3215",
   "metadata": {},
   "outputs": [],
   "source": [
    "eng_cust_df.toPandas().to_csv('F:/C-DAC/incubyte_assign/eng_data.csv')"
   ]
  },
  {
   "cell_type": "code",
   "execution_count": 14,
   "id": "1b8cb748",
   "metadata": {},
   "outputs": [],
   "source": [
    "nyc_cust_df=cust_df.filter(col(\"Country\").like(\"NYC\"))"
   ]
  },
  {
   "cell_type": "code",
   "execution_count": 15,
   "id": "bdcbb8ff",
   "metadata": {},
   "outputs": [],
   "source": [
    "nyc_cust_df.toPandas().to_csv('F:/C-DAC/incubyte_assign/nyc_data.csv')"
   ]
  },
  {
   "cell_type": "code",
   "execution_count": 16,
   "id": "e87420db",
   "metadata": {},
   "outputs": [],
   "source": [
    "usa_cust_df=cust_df.filter(col(\"Country\").like(\"USA\"))"
   ]
  },
  {
   "cell_type": "code",
   "execution_count": 17,
   "id": "22b3d69a",
   "metadata": {},
   "outputs": [],
   "source": [
    "usa_cust_df.toPandas().to_csv('F:/C-DAC/incubyte_assign/usa_data.csv')"
   ]
  },
  {
   "cell_type": "code",
   "execution_count": 18,
   "id": "a03f3b31",
   "metadata": {},
   "outputs": [
    {
     "name": "stdout",
     "output_type": "stream",
     "text": [
      "+---+-----------+-------------+----------+-------------------+--------------+--------+-----+-------+----------+---------+\n",
      "|_c0|Customer_Id|Customer_Name| Open_date|Last_Consulted_Date|Vaccination_Id| Dr_Name|State|Country|       DOB|Is_Active|\n",
      "+---+-----------+-------------+----------+-------------------+--------------+--------+-----+-------+----------+---------+\n",
      "|  2|        123|       Akshay|2021-10-02|         2022-10-01|           COV|  Sharma|   MH|    IND|1994-07-04|        A|\n",
      "|  3|        124|          Jay|2021-08-11|         2022-08-10|           COV|  Sharma|   MH|    IND|1990-04-05|        A|\n",
      "|  4|        125|        Aliya|2021-08-12|         2022-08-11|           COV|  Sharma|   MH|    IND|1990-09-12|        A|\n",
      "|  7|        256|        Pooja|2021-10-11|         2022-10-10|           CSD|Kulkarni|   MH|    IND|1991-02-27|        A|\n",
      "|  8|        257|      Shubham|2021-10-11|         2022-10-10|           CSD|Kulkarni|   MH|    IND|1991-10-15|        A|\n",
      "|  9|        543|        Rakhi|2021-10-14|         2022-10-13|           CSD|   Joshi|   MH|    IND|1990-12-14|        A|\n",
      "| 11|        777|       Rutuja|2021-09-27|         2022-09-26|           COV|  Mishra|   UP|    IND|1990-05-05|        A|\n",
      "| 13|        877|        Kedar|2021-09-27|         2022-09-26|           COV|  Mishra|   UP|    IND|1990-11-06|        A|\n",
      "+---+-----------+-------------+----------+-------------------+--------------+--------+-----+-------+----------+---------+\n",
      "\n"
     ]
    }
   ],
   "source": [
    "ind_cust_df.show()"
   ]
  },
  {
   "cell_type": "code",
   "execution_count": null,
   "id": "5b09e395",
   "metadata": {},
   "outputs": [],
   "source": []
  },
  {
   "cell_type": "code",
   "execution_count": null,
   "id": "02681436",
   "metadata": {},
   "outputs": [],
   "source": []
  },
  {
   "cell_type": "code",
   "execution_count": null,
   "id": "3feb3b9d",
   "metadata": {},
   "outputs": [],
   "source": []
  }
 ],
 "metadata": {
  "kernelspec": {
   "display_name": "Python 3",
   "language": "python",
   "name": "python3"
  },
  "language_info": {
   "codemirror_mode": {
    "name": "ipython",
    "version": 3
   },
   "file_extension": ".py",
   "mimetype": "text/x-python",
   "name": "python",
   "nbconvert_exporter": "python",
   "pygments_lexer": "ipython3",
   "version": "3.8.8"
  }
 },
 "nbformat": 4,
 "nbformat_minor": 5
}
